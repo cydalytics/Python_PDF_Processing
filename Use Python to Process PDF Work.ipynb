{
 "cells": [
  {
   "cell_type": "markdown",
   "id": "01356c0a-49ed-47a4-915b-5539856926dc",
   "metadata": {},
   "source": [
    "# <center><font color='#333333'>Use Python to Process PDF Work</font></center>\n",
    "### <center><font color='#3b5998'>Created by cyda - Yeung Wong & Carrie Lo</font></center>"
   ]
  },
  {
   "cell_type": "markdown",
   "id": "bb4df668-e373-43c8-8d22-6f19fddf52e1",
   "metadata": {},
   "source": [
    "--------------------------------------------------------------------------------------\n",
    "![logo](https://4.bp.blogspot.com/-LAXjdvVCYCU/WxeQFKQ-1wI/AAAAAAAAACs/o8IJ1eLLAEwQYv2Az7EqQi9jODTqRx7wACK4BGAYYCw/s1000/tight%2Bbanner_with_description.png)"
   ]
  },
  {
   "cell_type": "markdown",
   "id": "0eb6c4b6-abf1-4694-b53a-84b4a4115b2e",
   "metadata": {},
   "source": [
    "--------------------------------------------------------------------------------------\n",
    "Please acknowledge <b>team cyda - Yeung Wong & Carrie Lo</b> when using the code\n",
    "\n",
    "<b><font color='#3b5998'>If you find this script is helpful, please feel free to endorse us through Linkedin!</font></b>\n",
    "\n",
    "<b>Linkedin:</b>\n",
    "\n",
    "Yeung Wong - https://www.linkedin.com/in/yeungwong/\n",
    "\n",
    "Carrie Lo - https://www.linkedin.com/in/carrielsc/\n",
    "\n",
    "--------------------------------------------------------------------------------------"
   ]
  },
  {
   "cell_type": "markdown",
   "id": "05d4449a-cca6-4d03-8198-1f427d348980",
   "metadata": {},
   "source": [
    "# Step 0 - Preliminary"
   ]
  },
  {
   "cell_type": "markdown",
   "id": "a84422fe-ef50-41ec-8369-10ca14e5ff8e",
   "metadata": {},
   "source": [
    "## 0.1 import packages"
   ]
  },
  {
   "cell_type": "code",
   "execution_count": 1,
   "id": "e91b5b34-6f13-4246-ac14-178230f6eb49",
   "metadata": {},
   "outputs": [],
   "source": [
    "import fitz as pymupdf # !pip install PyMuPDF\n",
    "import re\n",
    "from IPython.display import display, Image\n",
    "import numpy as np\n",
    "import pandas as pd\n",
    "pd.set_option('display.max_colwidth', None)"
   ]
  },
  {
   "cell_type": "markdown",
   "id": "26657120-a83d-4fa2-a7d4-a1560a5f3ae7",
   "metadata": {},
   "source": [
    "## 0.2 define the path"
   ]
  },
  {
   "cell_type": "code",
   "execution_count": 2,
   "id": "9bb1e006-3b99-431f-899c-f514757ffa27",
   "metadata": {},
   "outputs": [],
   "source": [
    "pdf_path = 'Apple Annual Report 2021.pdf'"
   ]
  },
  {
   "cell_type": "markdown",
   "id": "156a3a81-c09e-4200-a30d-938c6fa3c166",
   "metadata": {},
   "source": [
    "# Step 1 - Extract Information"
   ]
  },
  {
   "cell_type": "markdown",
   "id": "9ac329fc-6e98-4be6-9599-136743e45682",
   "metadata": {},
   "source": [
    "## 1.1 basic information"
   ]
  },
  {
   "cell_type": "code",
   "execution_count": 3,
   "id": "f2906056-75f9-4188-8a7e-f7836dc5764d",
   "metadata": {},
   "outputs": [
    {
     "name": "stdout",
     "output_type": "stream",
     "text": [
      "Page Number: 82\n",
      "Creation Date: D:20211028161753+00'00'\n",
      "Modified Date: D:20211028161753+00'00'\n",
      "\n",
      "Table of Content:\n",
      " ['Cover Page', 'TABLE OF CONTENTS', 'PART I', 'Item 1. Business', 'Item 1A. Risk Factors', 'Item 1B. Unresolved Staff Comments', 'Item 2. Properties', 'Item 3. Legal Proceedings', 'Item 4. Mine Safety Disclosures', 'PART II', \"Item 5. Market for Registrant's Common Equity, Related Stockholder Matters and Issuer Purchases of Equity Secutities\", 'Item 6. [Reserved]', \"Item 7. Management's Discussion and Analysis of Financial Condition and Results of Operations\", 'Fiscal Year Highlights', 'Products and Services Performance', 'Segment Operating Performance', 'Gross Margin', 'Operating Expenses', 'Other Income/(Expense), Net', 'Provision for Income Taxes', 'Liquidity and Capital Resources', 'Critical Accounting Estimates', 'Item 7A. Quantitative and Qualitative Disclosures About Market Risk', 'Item 8. Financial Statements and Supplementary Data', 'Index to Consolidated Financial Statements', 'CONSOLIDATED STATEMENTS OF OPERATIONS', 'CONSOLIDATED STATEMENTS OF COMPREHENSIVE INCOME', 'CONSOLIDATED BALANCE SHEETS', 'CONSOLIDATED STATEMENTS OF SHAREHOLDERS’ EQUITY', 'CONSOLIDATED STATEMENTS OF CASH FLOWS', 'Notes to Consolidated Financial Statements', 'Note 1 – Summary of Significant Accounting Policies', 'Note 2 – Revenue Recognition', 'Note 3 – Financial Instruments', 'Note 4 – Consolidated Financial Statement Details', 'Note 5 – Income Taxes', 'Note 6 – Leases', 'Note 7 – Debt', 'Note 8 – Shareholders’ Equity', 'Note 9 – Benefit Plans', 'Note 10 – Commitments and Contingencies', 'Note 11 – Segment Information and Geographic Data', 'Reports of Independent Registered Public Accounting Firm', 'Item 9. Changes in and Disagreements with Accountants on Accounting and Financial Disclosure', 'Item 9A. Controls and Procedures', 'Item 9B. Other Information', 'Item 9C. Disclosure Regarding Foreign Jurisdictions that Prevent Inspections', 'PART III', 'Item 10. Directors, Executive Officers and Corporate Goverance', 'Item 11. Executive Compensation', 'Item 12. Security Ownership of Certain Beceficial Owners and Management and Related Stockholder Matters', 'Item 13. Certain Relationships and Related Transactions, and Director Independence', 'Item 14. Principal Accountant Fees and Services', 'PART IV', 'Item 15. Exhibit and Financial Statement Schedules', 'Item 16. Form 10-K Summary', 'SIGNATURES', 'Power of Attorney', 'Exhibit 4.1', 'Exhibit 21.1', 'Exhibit 23.1', 'Exhibit 31.1', 'Exhibit 31.2', 'Exhibit 32.1']\n"
     ]
    }
   ],
   "source": [
    "f = pymupdf.open(pdf_path)\n",
    "print('Page Number:', f.page_count)\n",
    "print('Creation Date:', f.metadata['creationDate'])\n",
    "print('Modified Date:', f.metadata['modDate'])\n",
    "print('\\nTable of Content:\\n', [toc[1] for toc in f.get_toc()])\n",
    "f.close()"
   ]
  },
  {
   "cell_type": "markdown",
   "id": "d44ee812-27d0-4a1b-9987-46a7562ef8c3",
   "metadata": {},
   "source": [
    "## 1.2 extract text"
   ]
  },
  {
   "cell_type": "code",
   "execution_count": 4,
   "id": "1ccb6273-1545-409b-a7fa-da87afe5787f",
   "metadata": {},
   "outputs": [
    {
     "name": "stdout",
     "output_type": "stream",
     "text": [
      "Fiscal Year Highlights\n",
      "COVID-19 Update\n",
      "The COVID-19 pandemic has had, and continues to have, a significant impact around the world, prompting governments and \n",
      "businesses to take unprecedented measures, such as restrictions on travel and business operations, temporary closures of \n",
      "businesses, and quarantine and shelter-in-place orders. The COVID-19 pandemic has at times significantly curtailed global \n",
      "economic activity and caused significant volatility and disruption in global financial markets. The COVID-19 pandemic and the \n",
      "measures taken by many countries in response have affected and could in the future materially impact the Company’s business, \n",
      "results of operations and financial condition, as well as the price of the Company’s stock.\n",
      "During 2021, aspects of the Company’s business continued to be affected by the COVID-19 pandemic, with many of the \n",
      "Company’s retail stores, as well as channel partner points of sale, temporarily closed at various times, and a significant number \n",
      "of the Company’s employees working remotely. The Company has reopened all of its retail stores and substantially all of its other \n",
      "facilities, subject to operating restrictions to protect public health and the health and safety of employees and customers, and it \n",
      "continues to work on safely reopening the remainder of its facilities, subject to local rules and regulations. During the fourth \n",
      "quarter of 2021, certain of the Company’s component suppliers and logistical service providers experienced disruptions, resulting \n",
      "in supply shortages that affected sales worldwide. Similar disruptions could occur in the future.\n",
      "The extent of the continuing impact of the COVID-19 pandemic on the Company’s operational and financial performance is \n",
      "uncertain and will depend on many factors outside the Company’s control, including the timing, extent, trajectory and duration of \n",
      "the pandemic, the emergence of new variants, the development, availability, distribution and effectiveness of vaccines and \n",
      "treatments, the imposition of protective public safety measures, and the impact of the pandemic on the global economy and \n",
      "demand for consumer products. Refer to Part I, Item 1A of this Form 10-K under the heading “Risk Factors” for more information.\n",
      "Fiscal 2021 Highlights\n",
      "Total net sales increased 33% or $91.3 billion during 2021 compared to 2020, driven by growth in all Products and Services \n",
      "categories. Year-over-year net sales during 2021 also grew in each of the Company’s reportable segments.\n",
      "In April 2021, the Company announced an increase to its current share repurchase program authorization from $225 billion to \n",
      "$315 billion and raised its quarterly dividend from $0.205 to $0.22 per share beginning in May 2021. During 2021, the Company \n",
      "repurchased $85.5 billion of its common stock and paid dividends and dividend equivalents of $14.5 billion.\n"
     ]
    }
   ],
   "source": [
    "f = pymupdf.open(pdf_path)\n",
    "txt = f.load_page(22).get_text()\n",
    "start_idx = txt.find('Fiscal Year Highlights')\n",
    "txt = txt[start_idx:]\n",
    "txt = re.sub(\"\\nApple Inc. \\| 2021 Form 10-K \\| \\d+\\n\", \"\", txt)\n",
    "print(txt)\n",
    "f.close()"
   ]
  },
  {
   "cell_type": "markdown",
   "id": "d4c62023-2d3e-4156-b3a8-d04e012ebf53",
   "metadata": {},
   "source": [
    "## 1.3 extract image"
   ]
  },
  {
   "cell_type": "code",
   "execution_count": 5,
   "id": "7ab3c669-14a9-4da3-8d01-d0d95b0b4b12",
   "metadata": {},
   "outputs": [
    {
     "name": "stdout",
     "output_type": "stream",
     "text": [
      "[(489, 0, 46, 56, 8, 'DeviceRGB', '', 'Im1', 'DCTDecode')]\n"
     ]
    },
    {
     "data": {
      "image/jpeg": "[encoded data removed]",
      "text/plain": [
       "<IPython.core.display.Image object>"
      ]
     },
     "metadata": {},
     "output_type": "display_data"
    }
   ],
   "source": [
    "f = pymupdf.open(pdf_path)\n",
    "img_list = f.load_page(0).get_images()\n",
    "print(img_list)\n",
    "img_xref = img_list[0][0]\n",
    "img_data = f.extract_image(img_xref)\n",
    "img_f = open(\"img.\" + img_data[\"ext\"], \"wb\")\n",
    "img_f.write(img_data[\"image\"])\n",
    "img_f.close()\n",
    "f.close()\n",
    "display(Image(filename=\"img.\" + img_data[\"ext\"]))"
   ]
  },
  {
   "cell_type": "markdown",
   "id": "dea84521-8772-483b-b646-f50309a22392",
   "metadata": {},
   "source": [
    "## 1.4 extract table"
   ]
  },
  {
   "cell_type": "code",
   "execution_count": 6,
   "id": "556ab52d-736b-4ac4-a572-53936b070043",
   "metadata": {},
   "outputs": [
    {
     "data": {
      "text/html": [
       "<div>\n",
       "<style scoped>\n",
       "    .dataframe tbody tr th:only-of-type {\n",
       "        vertical-align: middle;\n",
       "    }\n",
       "\n",
       "    .dataframe tbody tr th {\n",
       "        vertical-align: top;\n",
       "    }\n",
       "\n",
       "    .dataframe thead th {\n",
       "        text-align: right;\n",
       "    }\n",
       "</style>\n",
       "<table border=\"1\" class=\"dataframe\">\n",
       "  <thead>\n",
       "    <tr style=\"text-align: right;\">\n",
       "      <th></th>\n",
       "      <th>Item</th>\n",
       "      <th>Details</th>\n",
       "      <th>Page Number</th>\n",
       "    </tr>\n",
       "  </thead>\n",
       "  <tbody>\n",
       "    <tr>\n",
       "      <th>0</th>\n",
       "      <td>Item 1.</td>\n",
       "      <td>Business</td>\n",
       "      <td>1</td>\n",
       "    </tr>\n",
       "    <tr>\n",
       "      <th>1</th>\n",
       "      <td>Item 1A.</td>\n",
       "      <td>Risk Factors</td>\n",
       "      <td>6</td>\n",
       "    </tr>\n",
       "    <tr>\n",
       "      <th>2</th>\n",
       "      <td>Item 1B.</td>\n",
       "      <td>Unresolved Staff Comments</td>\n",
       "      <td>17</td>\n",
       "    </tr>\n",
       "    <tr>\n",
       "      <th>3</th>\n",
       "      <td>Item 2.</td>\n",
       "      <td>Properties</td>\n",
       "      <td>17</td>\n",
       "    </tr>\n",
       "    <tr>\n",
       "      <th>4</th>\n",
       "      <td>Item 3.</td>\n",
       "      <td>Legal Proceedings</td>\n",
       "      <td>17</td>\n",
       "    </tr>\n",
       "    <tr>\n",
       "      <th>5</th>\n",
       "      <td>Item 4.</td>\n",
       "      <td>Mine Safety Disclosures</td>\n",
       "      <td>17</td>\n",
       "    </tr>\n",
       "    <tr>\n",
       "      <th>6</th>\n",
       "      <td>Item 5.</td>\n",
       "      <td>Market for Registrant’s Common Equity, Related Stockholder Matters and Issuer Purchases of Equity Securities</td>\n",
       "      <td>18</td>\n",
       "    </tr>\n",
       "    <tr>\n",
       "      <th>7</th>\n",
       "      <td>Item 6.</td>\n",
       "      <td>[Reserved]</td>\n",
       "      <td>19</td>\n",
       "    </tr>\n",
       "    <tr>\n",
       "      <th>8</th>\n",
       "      <td>Item 7.</td>\n",
       "      <td>Management’s Discussion and Analysis of Financial Condition and Results of Operations</td>\n",
       "      <td>20</td>\n",
       "    </tr>\n",
       "    <tr>\n",
       "      <th>9</th>\n",
       "      <td>Item 7A.</td>\n",
       "      <td>Quantitative and Qualitative Disclosures About Market Risk</td>\n",
       "      <td>26</td>\n",
       "    </tr>\n",
       "    <tr>\n",
       "      <th>10</th>\n",
       "      <td>Item 8.</td>\n",
       "      <td>Financial Statements and Supplementary Data</td>\n",
       "      <td>28</td>\n",
       "    </tr>\n",
       "    <tr>\n",
       "      <th>11</th>\n",
       "      <td>Item 9.</td>\n",
       "      <td>Changes in and Disagreements with Accountants on Accounting and Financial Disclosure</td>\n",
       "      <td>55</td>\n",
       "    </tr>\n",
       "    <tr>\n",
       "      <th>12</th>\n",
       "      <td>Item 9A.</td>\n",
       "      <td>Controls and Procedures</td>\n",
       "      <td>55</td>\n",
       "    </tr>\n",
       "    <tr>\n",
       "      <th>13</th>\n",
       "      <td>Item 9B.</td>\n",
       "      <td>Other Information</td>\n",
       "      <td>56</td>\n",
       "    </tr>\n",
       "    <tr>\n",
       "      <th>14</th>\n",
       "      <td>Item 9C.</td>\n",
       "      <td>Disclosure Regarding Foreign Jurisdictions that Prevent Inspections</td>\n",
       "      <td>56</td>\n",
       "    </tr>\n",
       "    <tr>\n",
       "      <th>15</th>\n",
       "      <td>Item 10.</td>\n",
       "      <td>Directors, Executive Officers and Corporate Governance</td>\n",
       "      <td>56</td>\n",
       "    </tr>\n",
       "    <tr>\n",
       "      <th>16</th>\n",
       "      <td>Item 11.</td>\n",
       "      <td>Executive Compensation</td>\n",
       "      <td>56</td>\n",
       "    </tr>\n",
       "    <tr>\n",
       "      <th>17</th>\n",
       "      <td>Item 12.</td>\n",
       "      <td>Security Ownership of Certain Beneficial Owners and Management and Related Stockholder Matters</td>\n",
       "      <td>56</td>\n",
       "    </tr>\n",
       "    <tr>\n",
       "      <th>18</th>\n",
       "      <td>Item 13.</td>\n",
       "      <td>Certain Relationships and Related Transactions, and Director Independence</td>\n",
       "      <td>56</td>\n",
       "    </tr>\n",
       "    <tr>\n",
       "      <th>19</th>\n",
       "      <td>Item 14.</td>\n",
       "      <td>Principal Accountant Fees and Services</td>\n",
       "      <td>56</td>\n",
       "    </tr>\n",
       "    <tr>\n",
       "      <th>20</th>\n",
       "      <td>Item 15.</td>\n",
       "      <td>Exhibit and Financial Statement Schedules</td>\n",
       "      <td>57</td>\n",
       "    </tr>\n",
       "    <tr>\n",
       "      <th>21</th>\n",
       "      <td>Item 16.</td>\n",
       "      <td>Form 10-K Summary</td>\n",
       "      <td>59</td>\n",
       "    </tr>\n",
       "  </tbody>\n",
       "</table>\n",
       "</div>"
      ],
      "text/plain": [
       "        Item  \\\n",
       "0    Item 1.   \n",
       "1   Item 1A.   \n",
       "2   Item 1B.   \n",
       "3    Item 2.   \n",
       "4    Item 3.   \n",
       "5    Item 4.   \n",
       "6    Item 5.   \n",
       "7    Item 6.   \n",
       "8    Item 7.   \n",
       "9   Item 7A.   \n",
       "10   Item 8.   \n",
       "11   Item 9.   \n",
       "12  Item 9A.   \n",
       "13  Item 9B.   \n",
       "14  Item 9C.   \n",
       "15  Item 10.   \n",
       "16  Item 11.   \n",
       "17  Item 12.   \n",
       "18  Item 13.   \n",
       "19  Item 14.   \n",
       "20  Item 15.   \n",
       "21  Item 16.   \n",
       "\n",
       "                                                                                                         Details  \\\n",
       "0                                                                                                       Business   \n",
       "1                                                                                                   Risk Factors   \n",
       "2                                                                                      Unresolved Staff Comments   \n",
       "3                                                                                                     Properties   \n",
       "4                                                                                              Legal Proceedings   \n",
       "5                                                                                        Mine Safety Disclosures   \n",
       "6   Market for Registrant’s Common Equity, Related Stockholder Matters and Issuer Purchases of Equity Securities   \n",
       "7                                                                                                     [Reserved]   \n",
       "8                          Management’s Discussion and Analysis of Financial Condition and Results of Operations   \n",
       "9                                                     Quantitative and Qualitative Disclosures About Market Risk   \n",
       "10                                                                   Financial Statements and Supplementary Data   \n",
       "11                          Changes in and Disagreements with Accountants on Accounting and Financial Disclosure   \n",
       "12                                                                                       Controls and Procedures   \n",
       "13                                                                                             Other Information   \n",
       "14                                           Disclosure Regarding Foreign Jurisdictions that Prevent Inspections   \n",
       "15                                                        Directors, Executive Officers and Corporate Governance   \n",
       "16                                                                                        Executive Compensation   \n",
       "17                Security Ownership of Certain Beneficial Owners and Management and Related Stockholder Matters   \n",
       "18                                     Certain Relationships and Related Transactions, and Director Independence   \n",
       "19                                                                        Principal Accountant Fees and Services   \n",
       "20                                                                     Exhibit and Financial Statement Schedules   \n",
       "21                                                                                             Form 10-K Summary   \n",
       "\n",
       "   Page Number  \n",
       "0            1  \n",
       "1            6  \n",
       "2           17  \n",
       "3           17  \n",
       "4           17  \n",
       "5           17  \n",
       "6           18  \n",
       "7           19  \n",
       "8           20  \n",
       "9           26  \n",
       "10          28  \n",
       "11          55  \n",
       "12          55  \n",
       "13          56  \n",
       "14          56  \n",
       "15          56  \n",
       "16          56  \n",
       "17          56  \n",
       "18          56  \n",
       "19          56  \n",
       "20          57  \n",
       "21          59  "
      ]
     },
     "execution_count": 6,
     "metadata": {},
     "output_type": "execute_result"
    }
   ],
   "source": [
    "f = pymupdf.open(pdf_path)\n",
    "txt = f.load_page(2).get_text()\n",
    "f.close()\n",
    "\n",
    "temp_table_list = txt[txt.find('Part I'):].split('\\n')\n",
    "temp_table_list = [cell for cell in temp_table_list if cell not in ['Part I', 'Part II', 'Part III', 'Part IV', '']]\n",
    "table_list = []\n",
    "cell = ''\n",
    "while len(temp_table_list) > 0:\n",
    "    temp_cell = temp_table_list.pop(0)\n",
    "    if cell != '':\n",
    "        temp_cell = cell + temp_cell\n",
    "        cell = ''\n",
    "    if temp_cell[-1] == ' ':\n",
    "        cell = temp_cell\n",
    "    else:\n",
    "        table_list.append(temp_cell)\n",
    "table = pd.DataFrame(np.array(table_list).reshape(-1, 3), columns=['Item', 'Details', 'Page Number'])\n",
    "table"
   ]
  },
  {
   "cell_type": "markdown",
   "id": "8bfe54e4-fdce-49f2-8e15-88f77173acbc",
   "metadata": {},
   "source": [
    "# Step 2 - Modification"
   ]
  },
  {
   "cell_type": "markdown",
   "id": "f906c934-fd97-4728-88b5-d9a6b6797d0d",
   "metadata": {},
   "source": [
    "## 2.1 insert a new page"
   ]
  },
  {
   "cell_type": "code",
   "execution_count": 7,
   "id": "a4029698-4b55-415f-b6b3-a53df8537351",
   "metadata": {},
   "outputs": [],
   "source": [
    "f = pymupdf.open(pdf_path)\n",
    "f.new_page(0, 612.0, 792.0)\n",
    "f.save(\"Modified Apple Annual Report 2021.pdf\")\n",
    "f.close()"
   ]
  },
  {
   "cell_type": "markdown",
   "id": "d5bc48a1-52bc-4787-ab79-6735a5e9b602",
   "metadata": {},
   "source": [
    "## 2.2 delete pages"
   ]
  },
  {
   "cell_type": "code",
   "execution_count": 8,
   "id": "fd59d44b-8be4-4013-b441-d3f116f4fff4",
   "metadata": {},
   "outputs": [
    {
     "name": "stdout",
     "output_type": "stream",
     "text": [
      "Original Page Number: 82\n",
      "Modified Page Number: 41\n"
     ]
    }
   ],
   "source": [
    "f = pymupdf.open(pdf_path)\n",
    "print('Original Page Number:', f.page_count)\n",
    "f.delete_pages(range(0, f.page_count, 2))\n",
    "print('Modified Page Number:', f.page_count)\n",
    "f.save(\"Modified Apple Annual Report 2021.pdf\")\n",
    "f.close()"
   ]
  },
  {
   "cell_type": "markdown",
   "id": "8b8a4490-503d-48e3-8b7b-d532ff6a1c5d",
   "metadata": {},
   "source": [
    "## 2.3 add text"
   ]
  },
  {
   "cell_type": "code",
   "execution_count": 9,
   "id": "58a497d3-21f8-4404-b895-a585d071606f",
   "metadata": {},
   "outputs": [],
   "source": [
    "f = pymupdf.open(pdf_path)\n",
    "page = f.new_page(0, 612.0, 792.0)\n",
    "text_writer = pymupdf.TextWriter(page.rect)\n",
    "\n",
    "# Compulsory\n",
    "pos = (100, 200)\n",
    "text = \"https://blog.cyda.hk/\"\n",
    "\n",
    "# Optional\n",
    "font_style = pymupdf.Font(\"helv\")\n",
    "font_size = 50\n",
    "font_opacity = 0.5\n",
    "font_color = (0, 0, 1)\n",
    "\n",
    "text_writer.append(pos, text, font=font_style, fontsize=font_size)\n",
    "text_writer.write_text(page, opacity=font_opacity, color=font_color)\n",
    "f.save(\"Modified Apple Annual Report 2021.pdf\")\n",
    "f.close()"
   ]
  },
  {
   "cell_type": "markdown",
   "id": "34a3cd8a-4537-4a2c-be54-1d17b67fb705",
   "metadata": {},
   "source": [
    "## 2.4 add image"
   ]
  },
  {
   "cell_type": "code",
   "execution_count": 10,
   "id": "b4b93d1f-c932-4d02-aa6c-5133c85daea7",
   "metadata": {},
   "outputs": [],
   "source": [
    "f = pymupdf.open(pdf_path)\n",
    "page = f.new_page(0, 612.0, 792.0)\n",
    "\n",
    "x = 100\n",
    "y = 200\n",
    "w = 300\n",
    "h = 300\n",
    "img_rect = pymupdf.Rect(x, y, x+w, y+h)\n",
    "page.insert_image(img_rect, filename=\"img.jpeg\")\n",
    "\n",
    "f.save(\"Modified Apple Annual Report 2021.pdf\")\n",
    "f.close()"
   ]
  },
  {
   "cell_type": "markdown",
   "id": "b5acc47d-e546-4ea7-bd2d-927b48afb6e4",
   "metadata": {},
   "source": [
    "# Step 3 - Export"
   ]
  },
  {
   "cell_type": "markdown",
   "id": "ab92ad94-6602-4d54-8653-30783d8e74e4",
   "metadata": {},
   "source": [
    "## 3.1 split PDF"
   ]
  },
  {
   "cell_type": "code",
   "execution_count": 11,
   "id": "fb8d3593-a686-4b16-b79f-e029082c0a9a",
   "metadata": {},
   "outputs": [],
   "source": [
    "f = pymupdf.open(pdf_path)\n",
    "new_f = pymupdf.open()\n",
    "new_f.insert_pdf(f, from_page=0, to_page=1)\n",
    "new_f.save(\"Modified Apple Annual Report 2021.pdf\")\n",
    "new_f.close()\n",
    "f.close()"
   ]
  },
  {
   "cell_type": "markdown",
   "id": "2977cc29-17e6-4e37-b782-60ca9ebee1cd",
   "metadata": {},
   "source": [
    "## 3.2 combine PDF"
   ]
  },
  {
   "cell_type": "code",
   "execution_count": 12,
   "id": "3809bb2b-bd60-4192-ac2f-b2ac96bb88cb",
   "metadata": {},
   "outputs": [],
   "source": [
    "pdf1_path = 'Apple Annual Report 2021.pdf'\n",
    "pdf2_path = 'Apple Annual Report 2021.pdf'\n",
    "f1 = pymupdf.open(pdf1_path)\n",
    "f2 = pymupdf.open(pdf2_path)\n",
    "f1.insert_pdf(f2)\n",
    "f1.save(\"Modified Apple Annual Report 2021.pdf\")\n",
    "f1.close()\n",
    "f2.close()"
   ]
  },
  {
   "cell_type": "markdown",
   "id": "6abd8105-f6cf-4b49-9b4b-9c8d77b4e39f",
   "metadata": {},
   "source": [
    "## 3.3 export as images"
   ]
  },
  {
   "cell_type": "code",
   "execution_count": 13,
   "id": "44cc6966-394d-4b0f-b6b1-f801e3668d0c",
   "metadata": {},
   "outputs": [],
   "source": [
    "f = pymupdf.open(pdf_path)\n",
    "page = f.load_page(0)\n",
    "pix = page.get_pixmap()\n",
    "pix.save(\"page.png\")"
   ]
  }
 ],
 "metadata": {
  "kernelspec": {
   "display_name": "Python 3",
   "language": "python",
   "name": "python3"
  },
  "language_info": {
   "codemirror_mode": {
    "name": "ipython",
    "version": 3
   },
   "file_extension": ".py",
   "mimetype": "text/x-python",
   "name": "python",
   "nbconvert_exporter": "python",
   "pygments_lexer": "ipython3",
   "version": "3.9.4"
  }
 },
 "nbformat": 4,
 "nbformat_minor": 5
}
